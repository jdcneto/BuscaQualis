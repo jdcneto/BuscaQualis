{
 "cells": [
  {
   "cell_type": "code",
   "execution_count": 1,
   "metadata": {},
   "outputs": [],
   "source": [
    "import pandas as pd"
   ]
  },
  {
   "cell_type": "code",
   "execution_count": 2,
   "metadata": {},
   "outputs": [],
   "source": [
    "class qualis:\n",
    "    def __init__(self, categoria:str, df:pd.DataFrame):\n",
    "        self.categoria = categoria\n",
    "        self.qualis = df\n",
    "\n",
    "    def get_url(self):\n",
    "        url = ['http://www.wikicfp.com/cfp/servlet/tool.search?q=', '&year=t']\n",
    "        cat = self.categoria\n",
    "        url.insert(1, cat)\n",
    "        url = ''.join(url)\n",
    "        return url.replace(' ', '++')\n",
    "\n",
    "    def wikiCFP(self) -> None:\n",
    "        full_path = self.get_url()\n",
    "        # planilha wikiCFP\n",
    "        df = pd.read_html(full_path, header=[0])\n",
    "        # somente conferencias 2023\n",
    "        indice = df[2][df[2].Event=='Expired CFPs'].index\n",
    "        \n",
    "        if indice.empty:\n",
    "            pass\n",
    "        else:\n",
    "            df[2] = df[2][df[2].index < indice[0]] \n",
    "        # dataframe com nomes das coferências\n",
    "        df1 = df[2].iloc[::2]\n",
    "        df1 = df1.drop(columns=['Where', 'Deadline'])\n",
    "        df1.columns = ['Event', 'Conference']\n",
    "        # exclui linhas pares e a ultima coluna\n",
    "        df2 = df[2].iloc[1::2]\n",
    "        # adicionando os nomes das conferencias\n",
    "        df_wiki = df1.merge(df2, on='Event', how='left')\n",
    "\n",
    "        df_wiki.loc[:,'Event'] = df_wiki.Event.replace('2023','', regex=True)\n",
    "        df_wiki.reset_index(drop=True, inplace=True)\n",
    "        # renomeando colunas\n",
    "        df_wiki.columns = ['Sigla', 'Conferência', 'Quando', 'Onde', 'Deadline']\n",
    "        # removing spaces \n",
    "        df_wiki.Sigla = df_wiki.Sigla.apply(lambda x:x.strip())\n",
    "\n",
    "        return df_wiki\n",
    "\n",
    "    def wikiQualis(self):\n",
    "        df_wiki = self.wikiCFP()\n",
    "        #df_qualis = self.Qualis()\n",
    "\n",
    "        df_merged = df_wiki.merge(self.qualis, on='Sigla', how='left')\n",
    "        \n",
    "        df_merged = df_merged.fillna('-')\n",
    "        # criando colunas com as data de inicio e fim das conferencias\n",
    "        df_merged.insert(2, 'Início', df_merged.Quando.apply(lambda x: x.split('-')[0]))\n",
    "        df_merged.insert(3, 'Fim', df_merged.Quando.apply(lambda x: x.split('-')[1]))\n",
    "        # Limpando as colunas do deadline, remove data em parênteses\n",
    "        df_merged.Deadline = df_merged.Deadline.apply(lambda x:x.split('(')[0].strip())\n",
    "        # removendo coluna das datas compostas \n",
    "        df_merged.drop(columns='Quando', inplace=True)\n",
    "        # removendo linhas sem deadline\n",
    "        df_merged = df_merged[df_merged.Deadline.apply(lambda x: len(str(x)))>=11]\n",
    "        # datetime formato\n",
    "        df_merged[['Início', 'Fim', 'Deadline']] = df_merged[['Início', 'Fim', 'Deadline']].apply(pd.to_datetime, errors='coerce')\n",
    "        # deixando as datas no formato d-m-y\n",
    "        df1 = df_merged.select_dtypes('datetime64')\n",
    "        df_merged[df1.columns] = df1.apply(lambda x: x.dt.strftime('%d-%m-%Y'))\n",
    "        \n",
    "        df_merged = df_merged.fillna('-')\n",
    "        return df_merged\n",
    "    \n"
   ]
  },
  {
   "cell_type": "markdown",
   "metadata": {},
   "source": [
    "## Planilha Qualis\n"
   ]
  },
  {
   "cell_type": "code",
   "execution_count": 3,
   "metadata": {},
   "outputs": [],
   "source": [
    "url_qualis = 'https://docs.google.com/spreadsheets/d/e/2PACX-1vTZsntDnttAWGHA8NZRvdvK5A_FgOAQ_tPMzP7UUf-CHwF_3PHMj_TImyXN2Q_Tmcqm2MqVknpHPoT2/pubhtml?gid=0&single=true'\n",
    "            \n",
    "df2 = pd.read_html(url_qualis, header=[1])\n",
    "df_qualis = df2[0].drop(columns=['1', 'evento'])\n",
    "# remove 1 linha (contem apenas NaN)\n",
    "df_qualis = df_qualis.iloc[1:]\n",
    "# renomeando colunas\n",
    "df_qualis.columns = ['Sigla', 'Qualis']"
   ]
  },
  {
   "attachments": {},
   "cell_type": "markdown",
   "metadata": {},
   "source": [
    "## Fazendo Busca de conferências por categoria"
   ]
  },
  {
   "cell_type": "code",
   "execution_count": 4,
   "metadata": {},
   "outputs": [],
   "source": [
    "categoria = ['security','cyber security', 'cybersecurity','network security', \n",
    "            'information security','computer security', 'artificial inteligence',             \n",
    "            'data mining', 'internet applications', 'big data', 'computing', 'internet', \n",
    "            'computer science', 'data analytics', 'informatics', 'internet of things',\n",
    "            'IOT', 'computer science', 'privacy', 'data',  'cloud', 'cloud security',\n",
    "            'cloud architectures', 'cloud computing security','cloud services']"
   ]
  },
  {
   "attachments": {},
   "cell_type": "markdown",
   "metadata": {},
   "source": [
    "## Gerando os dataframes"
   ]
  },
  {
   "cell_type": "code",
   "execution_count": 5,
   "metadata": {},
   "outputs": [
    {
     "name": "stdout",
     "output_type": "stream",
     "text": [
      "security\n",
      "-------------------------\n",
      "cyber security\n",
      "-------------------------\n",
      "cybersecurity\n",
      "-------------------------\n",
      "network security\n",
      "-------------------------\n",
      "information security\n",
      "-------------------------\n",
      "computer security\n",
      "-------------------------\n",
      "artificial inteligence\n",
      "-------------------------\n",
      "data mining\n",
      "-------------------------\n",
      "internet applications\n",
      "-------------------------\n",
      "big data\n",
      "-------------------------\n",
      "computing\n",
      "-------------------------\n",
      "internet\n",
      "-------------------------\n",
      "computer science\n",
      "-------------------------\n",
      "data analytics\n",
      "-------------------------\n",
      "informatics\n",
      "-------------------------\n",
      "internet of things\n",
      "-------------------------\n",
      "IOT\n",
      "-------------------------\n",
      "computer science\n",
      "-------------------------\n",
      "privacy\n",
      "-------------------------\n",
      "data\n",
      "-------------------------\n",
      "cloud\n",
      "-------------------------\n",
      "cloud security\n",
      "-------------------------\n",
      "cloud architectures\n",
      "-------------------------\n",
      "cloud computing security\n",
      "-------------------------\n",
      "cloud services\n",
      "-------------------------\n"
     ]
    }
   ],
   "source": [
    "dataframes = []\n",
    "for cat in categoria:\n",
    "    print(cat)\n",
    "    print('-'*25)\n",
    "    busca = qualis(categoria=cat, df=df_qualis)\n",
    "    dataframe = busca.wikiQualis()\n",
    "    dataframes.append(dataframe)\n",
    "\n",
    "qualis_df = pd.concat(dataframes, ignore_index=True)"
   ]
  },
  {
   "attachments": {},
   "cell_type": "markdown",
   "metadata": {},
   "source": [
    "## Salvando dataframe para formato xlsx (excel)"
   ]
  },
  {
   "cell_type": "code",
   "execution_count": null,
   "metadata": {},
   "outputs": [],
   "source": [
    "qualis_df.shape\n",
    "qualis_df.drop_duplicates(subset='Sigla', keep='first', inplace=True)\n",
    "qualis_df.to_excel(\"planilha_qualis.xlsx\", index=False)"
   ]
  }
 ],
 "metadata": {
  "kernelspec": {
   "display_name": "tf",
   "language": "python",
   "name": "python3"
  },
  "language_info": {
   "codemirror_mode": {
    "name": "ipython",
    "version": 3
   },
   "file_extension": ".py",
   "mimetype": "text/x-python",
   "name": "python",
   "nbconvert_exporter": "python",
   "pygments_lexer": "ipython3",
   "version": "3.10.0 (default, Mar  3 2022, 09:58:08) [GCC 7.5.0]"
  },
  "orig_nbformat": 4,
  "vscode": {
   "interpreter": {
    "hash": "bc3084c42ec19d9505683ba5994f5b3d7de683a82c7fc83dca9988d1b3f47e7a"
   }
  }
 },
 "nbformat": 4,
 "nbformat_minor": 2
}
